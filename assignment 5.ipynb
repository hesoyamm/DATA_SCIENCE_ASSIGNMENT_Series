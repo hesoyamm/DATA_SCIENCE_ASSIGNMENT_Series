{
 "cells": [
  {
   "cell_type": "code",
   "execution_count": 35,
   "metadata": {},
   "outputs": [
    {
     "name": "stdout",
     "output_type": "stream",
     "text": [
      "cannot use 0 as divisor:\n"
     ]
    }
   ],
   "source": [
    "try: \n",
    "    a = 5/0\n",
    "except:\n",
    "    print(\"cannot use 0 as divisor:\")\n",
    "    "
   ]
  },
  {
   "cell_type": "markdown",
   "metadata": {},
   "source": [
    "#### implement a python a program to generate all sentence where subject is in [] and verb is in [] and the object is in []"
   ]
  },
  {
   "cell_type": "code",
   "execution_count": 49,
   "metadata": {},
   "outputs": [],
   "source": [
    "def all_senetence():\n",
    "    subjects = [\"america\",\"indians\"]\n",
    "    verbs = [\"play\",\"watch\"]\n",
    "    objects = ['baseball','Cricket']\n",
    "    \n",
    "    for i in range (0,2):\n",
    "        for j in range (0,2):\n",
    "            for k in range (0,2):\n",
    "                lst = subjects[i]+\" \"+verbs[j]+\" \"+objects[k]\n",
    "                print(lst)\n",
    "    "
   ]
  },
  {
   "cell_type": "code",
   "execution_count": 50,
   "metadata": {},
   "outputs": [
    {
     "name": "stdout",
     "output_type": "stream",
     "text": [
      "america play baseball\n",
      "america play Cricket\n",
      "america watch baseball\n",
      "america watch Cricket\n",
      "indians play baseball\n",
      "indians play Cricket\n",
      "indians watch baseball\n",
      "indians watch Cricket\n"
     ]
    }
   ],
   "source": [
    "all_senetence()"
   ]
  },
  {
   "cell_type": "code",
   "execution_count": null,
   "metadata": {},
   "outputs": [],
   "source": []
  }
 ],
 "metadata": {
  "kernelspec": {
   "display_name": "Python 3",
   "language": "python",
   "name": "python3"
  },
  "language_info": {
   "codemirror_mode": {
    "name": "ipython",
    "version": 3
   },
   "file_extension": ".py",
   "mimetype": "text/x-python",
   "name": "python",
   "nbconvert_exporter": "python",
   "pygments_lexer": "ipython3",
   "version": "3.8.3"
  }
 },
 "nbformat": 4,
 "nbformat_minor": 4
}
